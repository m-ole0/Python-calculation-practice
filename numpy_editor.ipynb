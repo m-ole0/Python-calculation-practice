{
  "cells": [
    {
      "cell_type": "markdown",
      "metadata": {
        "id": "view-in-github",
        "colab_type": "text"
      },
      "source": [
        "<a href=\"https://colab.research.google.com/github/m-ole0/Python-calculation-practice/blob/main/numpy_editor.ipynb\" target=\"_parent\"><img src=\"https://colab.research.google.com/assets/colab-badge.svg\" alt=\"Open In Colab\"/></a>"
      ]
    },
    {
      "cell_type": "markdown",
      "metadata": {
        "id": "eK3Qc7TuULea"
      },
      "source": [
        "# numpy exercises\n",
        "\n",
        "\n",
        "1. データの状態を確認する方法について学習します。（3問）\n",
        "2. 配列について学習します。（4問）\n",
        "3. スライスについて学習します。（5問）\n",
        "4. 行列について学習します。（基礎）（6問）\n",
        "5. 行列について学習します。（応用）（7問）\n",
        "6. numpyでよく使う機能について学習します。（14問）"
      ]
    },
    {
      "cell_type": "markdown",
      "metadata": {
        "id": "30qYZ6kBULee"
      },
      "source": [
        "### 0. 事前準備"
      ]
    },
    {
      "cell_type": "markdown",
      "metadata": {
        "id": "BVh1P-SyULef"
      },
      "source": [
        "#### 0.1 「numpyを読み込んでください。」"
      ]
    },
    {
      "cell_type": "code",
      "execution_count": 1,
      "metadata": {
        "id": "wnCgJ4koULef"
      },
      "outputs": [],
      "source": [
        "import numpy as np"
      ]
    },
    {
      "cell_type": "markdown",
      "metadata": {
        "id": "r9gL_ZpRULeg"
      },
      "source": [
        "#### 0.2 「以下のコードを読み込んでください。」"
      ]
    },
    {
      "cell_type": "code",
      "execution_count": 3,
      "metadata": {
        "id": "sORp3An6ULeg",
        "outputId": "117ca141-5519-42d9-9be4-37a293a7ce5b",
        "colab": {
          "base_uri": "https://localhost:8080/"
        }
      },
      "outputs": [
        {
          "output_type": "execute_result",
          "data": {
            "text/plain": [
              "array([[ 0,  1,  2,  3,  4],\n",
              "       [ 5,  6,  7,  8,  9],\n",
              "       [10, 11, 12, 13, 14]])"
            ]
          },
          "metadata": {},
          "execution_count": 3
        }
      ],
      "source": [
        "a = np.arange(15).reshape(3, 5)\n",
        "a"
      ]
    },
    {
      "cell_type": "markdown",
      "metadata": {
        "id": "pu53EFsuULeh"
      },
      "source": [
        "### 1. データの状態を確認する方法について学習します。（4問）"
      ]
    },
    {
      "cell_type": "markdown",
      "metadata": {
        "id": "_PK-oUcuULeh"
      },
      "source": [
        "#### 1.1 「行列の大きさを確認してください。」"
      ]
    },
    {
      "cell_type": "code",
      "execution_count": 7,
      "metadata": {
        "id": "0MGfv4k3ULei",
        "colab": {
          "base_uri": "https://localhost:8080/"
        },
        "outputId": "8dc69bb4-3983-4d6c-f54e-d5adfea509d8"
      },
      "outputs": [
        {
          "output_type": "execute_result",
          "data": {
            "text/plain": [
              "(3, 5)"
            ]
          },
          "metadata": {},
          "execution_count": 7
        }
      ],
      "source": [
        "a.shape"
      ]
    },
    {
      "cell_type": "markdown",
      "metadata": {
        "id": "53NCCo1OULei"
      },
      "source": [
        "#### 1.2 「行列の軸数（次元）を確認してください。」"
      ]
    },
    {
      "cell_type": "code",
      "execution_count": 8,
      "metadata": {
        "id": "P7GZqBqZULei",
        "colab": {
          "base_uri": "https://localhost:8080/"
        },
        "outputId": "1f9cbded-7346-4ada-92e7-d0c5650d8fe4"
      },
      "outputs": [
        {
          "output_type": "execute_result",
          "data": {
            "text/plain": [
              "2"
            ]
          },
          "metadata": {},
          "execution_count": 8
        }
      ],
      "source": [
        "a.ndim"
      ]
    },
    {
      "cell_type": "markdown",
      "metadata": {
        "id": "tWdhsjmiULei"
      },
      "source": [
        "#### 1.3 「行列のデータ型を確認してください。」"
      ]
    },
    {
      "cell_type": "code",
      "execution_count": 9,
      "metadata": {
        "id": "h3JVAZEhULej",
        "colab": {
          "base_uri": "https://localhost:8080/"
        },
        "outputId": "c4f26e9e-5d79-43df-a36d-29ac92022133"
      },
      "outputs": [
        {
          "output_type": "execute_result",
          "data": {
            "text/plain": [
              "dtype('int64')"
            ]
          },
          "metadata": {},
          "execution_count": 9
        }
      ],
      "source": [
        "a.dtype"
      ]
    },
    {
      "cell_type": "markdown",
      "metadata": {
        "id": "XQABOyH8ULej"
      },
      "source": [
        "### 2. 配列について学習します。（4問）"
      ]
    },
    {
      "cell_type": "markdown",
      "metadata": {
        "id": "AecjH6hhULej"
      },
      "source": [
        "#### 2.1 「8つの「0」が入る配列を作成してください。」"
      ]
    },
    {
      "cell_type": "code",
      "execution_count": 11,
      "metadata": {
        "id": "Woew8TTdULek",
        "colab": {
          "base_uri": "https://localhost:8080/"
        },
        "outputId": "8d84782e-6eea-4c2f-a7f8-b4b6c01ae3d4"
      },
      "outputs": [
        {
          "output_type": "stream",
          "name": "stdout",
          "text": [
            "[0. 0. 0. 0. 0. 0. 0. 0.]\n"
          ]
        }
      ],
      "source": [
        "data = np.zeros(8)\n",
        "print(data)"
      ]
    },
    {
      "cell_type": "markdown",
      "metadata": {
        "id": "-cCE5ihoULek"
      },
      "source": [
        "#### 2.2 「8つの「0」が入る配列を作成し、5番目の値を「1」に変えてください。」"
      ]
    },
    {
      "cell_type": "code",
      "execution_count": 12,
      "metadata": {
        "id": "XP2Lvt_JULek",
        "colab": {
          "base_uri": "https://localhost:8080/"
        },
        "outputId": "2ccdbca8-fe91-4738-c96e-1f4ce50d31d8"
      },
      "outputs": [
        {
          "output_type": "stream",
          "name": "stdout",
          "text": [
            "[0. 0. 0. 0. 1. 0. 0. 0.]\n"
          ]
        }
      ],
      "source": [
        "data = np.zeros(8)\n",
        "data[4] = 1\n",
        "print(data)"
      ]
    },
    {
      "cell_type": "markdown",
      "metadata": {
        "id": "R8brCGdHULek"
      },
      "source": [
        "#### 2.3 「10～49までの数字が昇順で入った配列を作成してください。」"
      ]
    },
    {
      "cell_type": "code",
      "execution_count": 16,
      "metadata": {
        "id": "SnAyaQ8SULek",
        "colab": {
          "base_uri": "https://localhost:8080/"
        },
        "outputId": "5868a1a8-a0df-4848-b1b3-a7f3592405fd"
      },
      "outputs": [
        {
          "output_type": "stream",
          "name": "stdout",
          "text": [
            "[10 11 12 13 14 15 16 17 18 19 20 21 22 23 24 25 26 27 28 29 30 31 32 33\n",
            " 34 35 36 37 38 39 40 41 42 43 44 45 46 47 48 49]\n"
          ]
        }
      ],
      "source": [
        "data = np.arange(10,50)\n",
        "print(data)"
      ]
    },
    {
      "cell_type": "markdown",
      "metadata": {
        "id": "oInnobMhULel"
      },
      "source": [
        "#### 2.4 「0～39までの数字が降順で入った配列を作成してください。」"
      ]
    },
    {
      "cell_type": "code",
      "execution_count": 18,
      "metadata": {
        "id": "2tDvD6IkULel",
        "colab": {
          "base_uri": "https://localhost:8080/"
        },
        "outputId": "fed26edd-c14e-41c4-dfad-8c6006bcd56f"
      },
      "outputs": [
        {
          "output_type": "stream",
          "name": "stdout",
          "text": [
            "[39 38 37 36 35 34 33 32 31 30 29 28 27 26 25 24 23 22 21 20 19 18 17 16\n",
            " 15 14 13 12 11 10  9  8  7  6  5  4  3  2  1  0]\n"
          ]
        }
      ],
      "source": [
        "data = np.arange(40)\n",
        "data = data[::-1]\n",
        "print(data)"
      ]
    },
    {
      "cell_type": "markdown",
      "metadata": {
        "id": "bWxpHHdJULel"
      },
      "source": [
        "### 3. スライスについて学習します。（5問）"
      ]
    },
    {
      "cell_type": "markdown",
      "metadata": {
        "id": "EWBbxrdcULel"
      },
      "source": [
        "#### 3.1 「0~9までの数字が入った配列を作成してください。」"
      ]
    },
    {
      "cell_type": "code",
      "execution_count": 28,
      "metadata": {
        "id": "NBWi9WDvULel",
        "colab": {
          "base_uri": "https://localhost:8080/"
        },
        "outputId": "9f5e5386-de89-4c59-ddcb-8ab74eb87090"
      },
      "outputs": [
        {
          "output_type": "stream",
          "name": "stdout",
          "text": [
            "[0 1 2 3 4 5 6 7 8 9]\n"
          ]
        }
      ],
      "source": [
        "data = np.arange(10)\n",
        "print(data)"
      ]
    },
    {
      "cell_type": "markdown",
      "metadata": {
        "id": "8WGTxc43ULel"
      },
      "source": [
        "#### 3.2 「スライス（:）を使用して、3.1で作成した配列から下記の配列を取り出して下さい。」"
      ]
    },
    {
      "cell_type": "code",
      "execution_count": 27,
      "metadata": {
        "id": "UdjhE57KULem",
        "colab": {
          "base_uri": "https://localhost:8080/"
        },
        "outputId": "3daefe69-6337-439b-d311-fef5fa965d37"
      },
      "outputs": [
        {
          "output_type": "stream",
          "name": "stdout",
          "text": [
            "[4 5 6 7]\n"
          ]
        }
      ],
      "source": [
        "data = data[4:8]\n",
        "print(data)"
      ]
    },
    {
      "cell_type": "markdown",
      "metadata": {
        "id": "uo0lepJpULem"
      },
      "source": [
        "#### 3.3 「スライス（:）を使用して、3.1で作成した配列から「マイナス」を使用して下記の配列を取り出して下さい。」"
      ]
    },
    {
      "cell_type": "code",
      "execution_count": 29,
      "metadata": {
        "id": "VT1NFwdgULem",
        "colab": {
          "base_uri": "https://localhost:8080/"
        },
        "outputId": "6b3a41e3-5ba7-4c9d-ef00-11292b27518b"
      },
      "outputs": [
        {
          "output_type": "stream",
          "name": "stdout",
          "text": [
            "[3 4 5 6 7]\n"
          ]
        }
      ],
      "source": [
        "data = np.arange(10)\n",
        "print(data[-7:-2])"
      ]
    },
    {
      "cell_type": "markdown",
      "metadata": {
        "id": "fD4SWhMYULem"
      },
      "source": [
        "#### 3.4 「スライス（:）を使用して、3.1で作成した配列から「マイナス」を使用して下記の配列を取り出して下さい。」"
      ]
    },
    {
      "cell_type": "code",
      "execution_count": 31,
      "metadata": {
        "id": "u-pn_rL1ULem",
        "colab": {
          "base_uri": "https://localhost:8080/"
        },
        "outputId": "d273a6ea-bb0d-4b69-e012-a0173efe747e"
      },
      "outputs": [
        {
          "output_type": "stream",
          "name": "stdout",
          "text": [
            "[9 8 7 6 5 4 3 2 1 0]\n"
          ]
        }
      ],
      "source": [
        "print(data[::-1])"
      ]
    },
    {
      "cell_type": "markdown",
      "metadata": {
        "id": "AMlZ-naCULen"
      },
      "source": [
        "#### 3.5 「スライス（:）を使用して、3.1で作成した配列から下記の配列を取り出して下さい。」"
      ]
    },
    {
      "cell_type": "code",
      "execution_count": 34,
      "metadata": {
        "id": "1ejqpcyaULen",
        "colab": {
          "base_uri": "https://localhost:8080/"
        },
        "outputId": "035e4a16-5c58-41b8-9d4d-14f422e6ffc2"
      },
      "outputs": [
        {
          "output_type": "stream",
          "name": "stdout",
          "text": [
            "[2 4 6]\n"
          ]
        }
      ],
      "source": [
        "print(data[2:7:2])"
      ]
    },
    {
      "cell_type": "markdown",
      "metadata": {
        "id": "SU2Xo1DbULen"
      },
      "source": [
        "### 4. 行列について学習します（基礎）（6問）"
      ]
    },
    {
      "cell_type": "markdown",
      "metadata": {
        "id": "rcMWs-rgULeo"
      },
      "source": [
        "#### 4.1 「0～8までの数字が昇順で入った配列を作成し、3×3の行列を作成してください。」"
      ]
    },
    {
      "cell_type": "code",
      "execution_count": 35,
      "metadata": {
        "id": "JqO_JtoxULeo",
        "colab": {
          "base_uri": "https://localhost:8080/"
        },
        "outputId": "6e2cced6-ed38-40a8-d8b7-8b18bad8e612"
      },
      "outputs": [
        {
          "output_type": "stream",
          "name": "stdout",
          "text": [
            "[[0 1 2]\n",
            " [3 4 5]\n",
            " [6 7 8]]\n"
          ]
        }
      ],
      "source": [
        "data = np.arange(9).reshape(3,3)\n",
        "print(data)"
      ]
    },
    {
      "cell_type": "markdown",
      "metadata": {
        "id": "_rwEVQ_YULeo"
      },
      "source": [
        "#### 4.2 「任意の「0」が入っている配列を作成し、「0」以外が入っているインデックスを取得してください。」"
      ]
    },
    {
      "cell_type": "code",
      "execution_count": 39,
      "metadata": {
        "id": "kk3w82gFULe2",
        "colab": {
          "base_uri": "https://localhost:8080/"
        },
        "outputId": "6168bea7-1a2e-4fd9-f3b7-9af817cd141c"
      },
      "outputs": [
        {
          "output_type": "stream",
          "name": "stdout",
          "text": [
            "(array([0, 1, 4]),)\n"
          ]
        }
      ],
      "source": [
        "data = np.nonzero([1,2,0,0,10])\n",
        "print(data)"
      ]
    },
    {
      "cell_type": "markdown",
      "metadata": {
        "id": "SIksdOb0ULe2"
      },
      "source": [
        "#### 4.3 「3×3の正方行列を作成してください。」"
      ]
    },
    {
      "cell_type": "code",
      "execution_count": 43,
      "metadata": {
        "id": "gi5vWxh_ULe3",
        "colab": {
          "base_uri": "https://localhost:8080/"
        },
        "outputId": "0c41d64f-56c4-489e-d131-fc6745907650"
      },
      "outputs": [
        {
          "output_type": "stream",
          "name": "stdout",
          "text": [
            "[[1. 0. 0.]\n",
            " [0. 1. 0.]\n",
            " [0. 0. 1.]]\n"
          ]
        }
      ],
      "source": [
        "data = np.eye(3)\n",
        "print(data)"
      ]
    },
    {
      "cell_type": "markdown",
      "metadata": {
        "id": "PdgrRxq_ULe3"
      },
      "source": [
        "#### 4.4 「3×3×3のランダム値を持つ行列を作成してください。」"
      ]
    },
    {
      "cell_type": "code",
      "execution_count": 46,
      "metadata": {
        "id": "H5Vjw8C0ULe3",
        "colab": {
          "base_uri": "https://localhost:8080/"
        },
        "outputId": "580722b1-df44-4cae-8a51-f7990b42e190"
      },
      "outputs": [
        {
          "output_type": "stream",
          "name": "stdout",
          "text": [
            "[[[0.14325929 0.90681284 0.41219776]\n",
            "  [0.13894331 0.9731423  0.3994108 ]\n",
            "  [0.47593498 0.24386902 0.06334701]]\n",
            "\n",
            " [[0.16773055 0.62853376 0.59777005]\n",
            "  [0.9866009  0.41770276 0.77837228]\n",
            "  [0.32471937 0.9530925  0.95673577]]\n",
            "\n",
            " [[0.5780316  0.96635512 0.72912547]\n",
            "  [0.53996344 0.06300444 0.50258997]\n",
            "  [0.56296177 0.92288395 0.92320868]]]\n"
          ]
        }
      ],
      "source": [
        "data = np.random.random((3,3,3))\n",
        "print(data)"
      ]
    },
    {
      "cell_type": "markdown",
      "metadata": {
        "id": "iJI4n_JoULe3"
      },
      "source": [
        "#### 4.5 「10×10のランダム値を持つ行列を作成し、最小値と最大値を出力してください。」"
      ]
    },
    {
      "cell_type": "code",
      "execution_count": 55,
      "metadata": {
        "id": "w-uTZYxkULe3",
        "colab": {
          "base_uri": "https://localhost:8080/"
        },
        "outputId": "3caca601-0d75-4422-ab51-4d20a4dc9deb"
      },
      "outputs": [
        {
          "output_type": "stream",
          "name": "stdout",
          "text": [
            "0.9968286528687061 0.0030927431208430667\n"
          ]
        }
      ],
      "source": [
        "data = np.random.random((10,10))\n",
        "datamax, datamin = data.max(), data.min()\n",
        "print(datamax, datamin)"
      ]
    },
    {
      "cell_type": "markdown",
      "metadata": {
        "id": "4hf8kdRUULe3"
      },
      "source": [
        "#### 4.6 「10×10のランダム値を持つ行列を作成し、平均値を出力してください。」"
      ]
    },
    {
      "cell_type": "code",
      "execution_count": 57,
      "metadata": {
        "id": "iFPfq-oOULe4",
        "colab": {
          "base_uri": "https://localhost:8080/"
        },
        "outputId": "af43429c-cdd6-4fb2-c204-53964b21d511"
      },
      "outputs": [
        {
          "output_type": "stream",
          "name": "stdout",
          "text": [
            "0.4847818498563181\n"
          ]
        }
      ],
      "source": [
        "data = np.random.random((10,10))\n",
        "datamean = data.mean()\n",
        "print(datamean)"
      ]
    },
    {
      "cell_type": "markdown",
      "metadata": {
        "id": "f8Ihw474ULe4"
      },
      "source": [
        "### 5. 行列について学習します（応用）（7問）"
      ]
    },
    {
      "cell_type": "markdown",
      "metadata": {
        "id": "aBkXQoEMULe4"
      },
      "source": [
        "#### 5.1 「10×10の大きさの、外側だけ値が「1」、内側が全て値が「0」の行列を作成してください。」"
      ]
    },
    {
      "cell_type": "code",
      "execution_count": 59,
      "metadata": {
        "id": "gtInpbLMULe4",
        "colab": {
          "base_uri": "https://localhost:8080/"
        },
        "outputId": "dc423e69-634d-4418-e440-8446efba9c44"
      },
      "outputs": [
        {
          "output_type": "stream",
          "name": "stdout",
          "text": [
            "[[1. 1. 1. 1. 1. 1. 1. 1. 1. 1.]\n",
            " [1. 0. 0. 0. 0. 0. 0. 0. 0. 1.]\n",
            " [1. 0. 0. 0. 0. 0. 0. 0. 0. 1.]\n",
            " [1. 0. 0. 0. 0. 0. 0. 0. 0. 1.]\n",
            " [1. 0. 0. 0. 0. 0. 0. 0. 0. 1.]\n",
            " [1. 0. 0. 0. 0. 0. 0. 0. 0. 1.]\n",
            " [1. 0. 0. 0. 0. 0. 0. 0. 0. 1.]\n",
            " [1. 0. 0. 0. 0. 0. 0. 0. 0. 1.]\n",
            " [1. 0. 0. 0. 0. 0. 0. 0. 0. 1.]\n",
            " [1. 1. 1. 1. 1. 1. 1. 1. 1. 1.]]\n"
          ]
        }
      ],
      "source": [
        "data = np.ones((10,10))\n",
        "data[1:-1,1:-1] = 0\n",
        "print(data)"
      ]
    },
    {
      "cell_type": "markdown",
      "metadata": {
        "id": "XotFE_qbULe4"
      },
      "source": [
        "#### 5.2 「10×10の大きさの、外側だけ値が「0」、内側が全て値が「1」の行列を作成してください。」"
      ]
    },
    {
      "cell_type": "code",
      "execution_count": 61,
      "metadata": {
        "id": "W38NSeFuULe4",
        "colab": {
          "base_uri": "https://localhost:8080/"
        },
        "outputId": "58dfffc4-1afb-42b3-a409-03a54e66e9e6"
      },
      "outputs": [
        {
          "output_type": "stream",
          "name": "stdout",
          "text": [
            "[[0. 0. 0. 0. 0. 0. 0. 0. 0. 0.]\n",
            " [0. 1. 1. 1. 1. 1. 1. 1. 1. 0.]\n",
            " [0. 1. 1. 1. 1. 1. 1. 1. 1. 0.]\n",
            " [0. 1. 1. 1. 1. 1. 1. 1. 1. 0.]\n",
            " [0. 1. 1. 1. 1. 1. 1. 1. 1. 0.]\n",
            " [0. 1. 1. 1. 1. 1. 1. 1. 1. 0.]\n",
            " [0. 1. 1. 1. 1. 1. 1. 1. 1. 0.]\n",
            " [0. 1. 1. 1. 1. 1. 1. 1. 1. 0.]\n",
            " [0. 1. 1. 1. 1. 1. 1. 1. 1. 0.]\n",
            " [0. 0. 0. 0. 0. 0. 0. 0. 0. 0.]]\n"
          ]
        }
      ],
      "source": [
        "data = np.zeros((10,10))\n",
        "data[1:9,1:9] = 1\n",
        "print(data)"
      ]
    },
    {
      "cell_type": "markdown",
      "metadata": {
        "id": "ElyNEbzcULe4"
      },
      "source": [
        "#### 5.3「下記のような4×4の対角行列を作成してください。」"
      ]
    },
    {
      "cell_type": "code",
      "execution_count": 68,
      "metadata": {
        "id": "kyMgXLVXULe5",
        "colab": {
          "base_uri": "https://localhost:8080/"
        },
        "outputId": "0e5a03cb-d2cd-4fbe-b3b8-4acf15229909"
      },
      "outputs": [
        {
          "output_type": "stream",
          "name": "stdout",
          "text": [
            "[[1 0 0 0]\n",
            " [0 2 0 0]\n",
            " [0 0 3 0]\n",
            " [0 0 0 4]]\n"
          ]
        }
      ],
      "source": [
        "data = [1,2,3,4]\n",
        "data = np.diag(data)\n",
        "print(data)"
      ]
    },
    {
      "cell_type": "markdown",
      "metadata": {
        "id": "hZbLn1v_ULe5"
      },
      "source": [
        "#### 5.4 「下記のような8×8の行列を作成してください。」"
      ]
    },
    {
      "cell_type": "code",
      "execution_count": 72,
      "metadata": {
        "id": "ie2AIGIFULe5",
        "colab": {
          "base_uri": "https://localhost:8080/"
        },
        "outputId": "5b5f8f9a-905f-4eb5-9bb3-c09e78568179"
      },
      "outputs": [
        {
          "output_type": "stream",
          "name": "stdout",
          "text": [
            "[[0 1 0 1 0 1 0 1]\n",
            " [1 0 1 0 1 0 1 0]\n",
            " [0 1 0 1 0 1 0 1]\n",
            " [1 0 1 0 1 0 1 0]\n",
            " [0 1 0 1 0 1 0 1]\n",
            " [1 0 1 0 1 0 1 0]\n",
            " [0 1 0 1 0 1 0 1]\n",
            " [1 0 1 0 1 0 1 0]]\n"
          ]
        }
      ],
      "source": [
        "data = np.zeros((8,8),dtype=int)\n",
        "data[1::2,0::2] = 1\n",
        "data[0::2,1::2] = 1\n",
        "print(data)"
      ]
    },
    {
      "cell_type": "markdown",
      "metadata": {
        "id": "DhJKkIRiULe5"
      },
      "source": [
        "#### 5.5「3×5×2の行列を考えた時に、10番目の要素のインデックスを出力してください。」"
      ]
    },
    {
      "cell_type": "code",
      "execution_count": 77,
      "metadata": {
        "id": "e9emIALJULe5",
        "colab": {
          "base_uri": "https://localhost:8080/"
        },
        "outputId": "5e233693-65d6-4061-b15b-b67154884bbb"
      },
      "outputs": [
        {
          "output_type": "stream",
          "name": "stdout",
          "text": [
            "(1, 0, 0)\n"
          ]
        }
      ],
      "source": [
        "print(np.unravel_index(10,(3,5,2)))"
      ]
    },
    {
      "cell_type": "markdown",
      "metadata": {
        "id": "ASxll0WZULe5"
      },
      "source": [
        "#### 5.6「5×5のランダム値を持つ行列を作成し、行列内の最大値が1、最小値が0になるように正規化してください。」"
      ]
    },
    {
      "cell_type": "code",
      "execution_count": 80,
      "metadata": {
        "id": "QCrOw8jxULe6",
        "colab": {
          "base_uri": "https://localhost:8080/"
        },
        "outputId": "61a982e0-23e8-41c1-bd9c-a1e05f7bfe55"
      },
      "outputs": [
        {
          "output_type": "stream",
          "name": "stdout",
          "text": [
            "[[0.1790116  0.32724046 0.40332541 0.92421479 0.03995787]\n",
            " [0.8949122  0.08875143 0.23939731 0.         0.47552058]\n",
            " [0.36261716 0.01453415 0.85053192 0.37122967 0.29113321]\n",
            " [1.         0.5349572  0.79235395 0.69317333 0.90595165]\n",
            " [0.07113101 0.99276723 0.43179784 0.49187523 0.37689417]]\n"
          ]
        }
      ],
      "source": [
        "data = np.random.random((5,5))\n",
        "datamax, datamin = data.max(), data.min()\n",
        "data = (data - datamin) / (datamax - datamin)\n",
        "print(data)"
      ]
    },
    {
      "cell_type": "markdown",
      "metadata": {
        "id": "E6XbsJ0nULe6"
      },
      "source": [
        "#### 5.7「5×3の値が全て1の行列と3×2の値が全て1の行列の掛け算を行ってください。」"
      ]
    },
    {
      "cell_type": "code",
      "execution_count": 81,
      "metadata": {
        "id": "zi-cdwS9ULe6",
        "colab": {
          "base_uri": "https://localhost:8080/"
        },
        "outputId": "e611b900-cc83-4936-f46d-8f7f50716309"
      },
      "outputs": [
        {
          "output_type": "stream",
          "name": "stdout",
          "text": [
            "[[3. 3.]\n",
            " [3. 3.]\n",
            " [3. 3.]\n",
            " [3. 3.]\n",
            " [3. 3.]]\n"
          ]
        }
      ],
      "source": [
        "data = np.dot(np.ones((5,3)), np.ones((3,2)))\n",
        "print(data)\n"
      ]
    },
    {
      "cell_type": "markdown",
      "metadata": {
        "id": "0Mn3g2XzULe6"
      },
      "source": [
        "### 6. numpyでよく使用する機能について学習します。（14問）"
      ]
    },
    {
      "cell_type": "markdown",
      "metadata": {
        "id": "PW0nvhxKULe6"
      },
      "source": [
        "#### 6.1「0～10までの数字を昇順に並べた配列を作成し、4～8までの数字をマイナスに変えて出力してください。」"
      ]
    },
    {
      "cell_type": "code",
      "execution_count": 3,
      "metadata": {
        "id": "AhexWDEqULe6",
        "colab": {
          "base_uri": "https://localhost:8080/"
        },
        "outputId": "e221fa50-2f2f-4f4b-fa93-a2bab7fc22f4"
      },
      "outputs": [
        {
          "output_type": "stream",
          "name": "stdout",
          "text": [
            "[ 0  1  2  3 -4 -5 -6 -7 -8  9 10]\n"
          ]
        }
      ],
      "source": [
        "data = np.arange(11)\n",
        "data[4:9] = -data[4:9]\n",
        "print(data)"
      ]
    },
    {
      "cell_type": "markdown",
      "metadata": {
        "id": "gVeT7DoaULe6"
      },
      "source": [
        "#### 6.2「ランダムな整数値を10個もつ配列を2つ作成し、その2つの配列の共通の値を出力してください。」"
      ]
    },
    {
      "cell_type": "code",
      "execution_count": 9,
      "metadata": {
        "id": "9C-AUq8_ULe7",
        "colab": {
          "base_uri": "https://localhost:8080/"
        },
        "outputId": "8bacabec-1dc8-414d-b9bf-139dd17a7a69"
      },
      "outputs": [
        {
          "output_type": "stream",
          "name": "stdout",
          "text": [
            "[0 1 2 5 7]\n"
          ]
        }
      ],
      "source": [
        "data1 = np.random.randint(0,10,10)\n",
        "data2 = np.random.randint(0,10,10)\n",
        "print(np.intersect1d(data1,data2))"
      ]
    },
    {
      "cell_type": "markdown",
      "metadata": {
        "id": "SVfMD6s-ULe7"
      },
      "source": [
        "#### 6.3「虚数を出力してください。」"
      ]
    },
    {
      "cell_type": "code",
      "execution_count": 10,
      "metadata": {
        "id": "lEJwNq1hULfI",
        "colab": {
          "base_uri": "https://localhost:8080/"
        },
        "outputId": "cca1a3f4-6d00-4587-f892-a044b3abbfa7"
      },
      "outputs": [
        {
          "output_type": "execute_result",
          "data": {
            "text/plain": [
              "1j"
            ]
          },
          "metadata": {},
          "execution_count": 10
        }
      ],
      "source": [
        "np.emath.sqrt(-1)"
      ]
    },
    {
      "cell_type": "markdown",
      "metadata": {
        "id": "pH89OMtpULfJ"
      },
      "source": [
        "#### 6.4「今日の日付と明後日の日付を出力してください。」"
      ]
    },
    {
      "cell_type": "code",
      "execution_count": 13,
      "metadata": {
        "id": "dR8CzHOpULfJ",
        "colab": {
          "base_uri": "https://localhost:8080/"
        },
        "outputId": "f2cc9612-ebf3-4a1a-f414-b7fab86ac4da"
      },
      "outputs": [
        {
          "output_type": "stream",
          "name": "stdout",
          "text": [
            "2023-10-05\n",
            "2023-10-07\n"
          ]
        }
      ],
      "source": [
        "today = np.datetime64('today', 'D')\n",
        "day_after_tomorrow = today + np.timedelta64('2', 'D')\n",
        "print(today)\n",
        "print(day_after_tomorrow)"
      ]
    },
    {
      "cell_type": "markdown",
      "metadata": {
        "id": "-kWk3PtGULfJ"
      },
      "source": [
        "#### 6.5「2019年11月の日付を配列として出力してください。」"
      ]
    },
    {
      "cell_type": "code",
      "execution_count": 18,
      "metadata": {
        "id": "6RoxuB-qULfJ",
        "colab": {
          "base_uri": "https://localhost:8080/"
        },
        "outputId": "19a3757c-839d-48a7-ca1c-6b4f4edfc42c"
      },
      "outputs": [
        {
          "output_type": "stream",
          "name": "stdout",
          "text": [
            "['2019-11-01' '2019-11-02' '2019-11-03' '2019-11-04' '2019-11-05'\n",
            " '2019-11-06' '2019-11-07' '2019-11-08' '2019-11-09' '2019-11-10'\n",
            " '2019-11-11' '2019-11-12' '2019-11-13' '2019-11-14' '2019-11-15'\n",
            " '2019-11-16' '2019-11-17' '2019-11-18' '2019-11-19' '2019-11-20'\n",
            " '2019-11-21' '2019-11-22' '2019-11-23' '2019-11-24' '2019-11-25'\n",
            " '2019-11-26' '2019-11-27' '2019-11-28' '2019-11-29' '2019-11-30']\n"
          ]
        }
      ],
      "source": [
        "data = np.arange('2019-11', '2019-12', dtype='datetime64[D]')\n",
        "print(data)"
      ]
    },
    {
      "cell_type": "markdown",
      "metadata": {
        "id": "P1Osf2F9ULfl"
      },
      "source": [
        "#### 6.6「ランダムの値を10個持つ配列を作成し、異なる3パターンで整数として出力してください。」"
      ]
    },
    {
      "cell_type": "code",
      "execution_count": 25,
      "metadata": {
        "id": "pOU26uaWULfl",
        "colab": {
          "base_uri": "https://localhost:8080/"
        },
        "outputId": "c41ac70d-2f3b-43ac-e1bd-f00e24583072"
      },
      "outputs": [
        {
          "output_type": "stream",
          "name": "stdout",
          "text": [
            "[2.95535299 4.04317055 8.78661885 9.29057992 1.64861987 4.92039421\n",
            " 2.83314586 2.97456558 1.87877036 5.80310486]\n",
            "[2. 4. 8. 9. 1. 4. 2. 2. 1. 5.]\n",
            "[2. 4. 8. 9. 1. 4. 2. 2. 1. 5.]\n",
            "[2. 4. 8. 9. 1. 4. 2. 2. 1. 5.]\n"
          ]
        }
      ],
      "source": [
        "data = np.random.uniform(0,10,10)\n",
        "print(data)\n",
        "print(data - data%1)\n",
        "print(np.floor(data))\n",
        "print(np.ceil(data)-1)"
      ]
    },
    {
      "cell_type": "markdown",
      "metadata": {
        "id": "hbzxw5H9ULfl"
      },
      "source": [
        "#### 6.7「下記のような行列を作成してください。」"
      ]
    },
    {
      "cell_type": "code",
      "execution_count": 27,
      "metadata": {
        "id": "SBV1s7PsULfl",
        "colab": {
          "base_uri": "https://localhost:8080/"
        },
        "outputId": "7229f08c-2d88-40fd-c18f-3feaa53cc300"
      },
      "outputs": [
        {
          "output_type": "stream",
          "name": "stdout",
          "text": [
            "[[0. 1. 2. 3. 4.]\n",
            " [0. 1. 2. 3. 4.]\n",
            " [0. 1. 2. 3. 4.]\n",
            " [0. 1. 2. 3. 4.]\n",
            " [0. 1. 2. 3. 4.]]\n"
          ]
        }
      ],
      "source": [
        "data = np.zeros((5,5))\n",
        "data += np.arange(5)\n",
        "print(data)"
      ]
    },
    {
      "cell_type": "markdown",
      "metadata": {
        "id": "T2tk4ZANULfl"
      },
      "source": [
        "#### 6.8「「0」と「1」は含めず、「0」～「1」の間を10分割した配列を作成してください。」"
      ]
    },
    {
      "cell_type": "code",
      "execution_count": 28,
      "metadata": {
        "id": "kSfZd7YiULfm",
        "colab": {
          "base_uri": "https://localhost:8080/"
        },
        "outputId": "823fc3b4-61b1-4af3-d6c4-defb6520fd0e"
      },
      "outputs": [
        {
          "output_type": "stream",
          "name": "stdout",
          "text": [
            "[0.09090909 0.18181818 0.27272727 0.36363636 0.45454545 0.54545455\n",
            " 0.63636364 0.72727273 0.81818182 0.90909091]\n"
          ]
        }
      ],
      "source": [
        "data = np.linspace(0,1,11,endpoint=False)[1:]\n",
        "print(data)"
      ]
    },
    {
      "cell_type": "markdown",
      "metadata": {
        "id": "ag_yX_BgULfm"
      },
      "source": [
        "#### 6.9「10のランダム値を持つ配列を作成し、値を昇順にして出力してください。」"
      ]
    },
    {
      "cell_type": "code",
      "execution_count": 30,
      "metadata": {
        "id": "Vx0SFRuWULfm",
        "colab": {
          "base_uri": "https://localhost:8080/"
        },
        "outputId": "7b3e5cd3-f44b-4853-e94b-045b54907411"
      },
      "outputs": [
        {
          "output_type": "stream",
          "name": "stdout",
          "text": [
            "[0.03679461 0.05168024 0.19949251 0.34088518 0.43051229 0.47071255\n",
            " 0.50528577 0.51579856 0.51987275 0.73763452]\n"
          ]
        }
      ],
      "source": [
        "data = np.random.random(10)\n",
        "data.sort()\n",
        "print(data)"
      ]
    },
    {
      "cell_type": "markdown",
      "metadata": {
        "id": "L8LkRe1SULfm"
      },
      "source": [
        "#### 6.10「10のランダム値を持つ配列を作成し、MAX値に「0」を置き換えて出力してください。」"
      ]
    },
    {
      "cell_type": "code",
      "execution_count": 31,
      "metadata": {
        "id": "KxtQSDFKULfn",
        "colab": {
          "base_uri": "https://localhost:8080/"
        },
        "outputId": "67a67859-d274-43d1-a505-795ddc5b809a"
      },
      "outputs": [
        {
          "output_type": "stream",
          "name": "stdout",
          "text": [
            "[0.         0.46664285 0.62593646 0.67028014 0.45017919 0.69618132\n",
            " 0.18708148 0.56789663 0.24422239 0.45962474]\n"
          ]
        }
      ],
      "source": [
        "data = np.random.random(10)\n",
        "data[data.argmax()] = 0\n",
        "print(data)"
      ]
    },
    {
      "cell_type": "markdown",
      "metadata": {
        "id": "BNu1NlfmULfo"
      },
      "source": [
        "#### 6.11「下記のような値が軸単位で昇順になっている行列を作成してください。」"
      ]
    },
    {
      "cell_type": "code",
      "execution_count": 33,
      "metadata": {
        "id": "2udvGpG0ULfo",
        "colab": {
          "base_uri": "https://localhost:8080/"
        },
        "outputId": "3a57eaf6-5942-4647-8a41-b803eca9f0da"
      },
      "outputs": [
        {
          "output_type": "stream",
          "name": "stdout",
          "text": [
            "[[(0.  , 0.  ) (0.25, 0.  ) (0.5 , 0.  ) (0.75, 0.  ) (1.  , 0.  )]\n",
            " [(0.  , 0.25) (0.25, 0.25) (0.5 , 0.25) (0.75, 0.25) (1.  , 0.25)]\n",
            " [(0.  , 0.5 ) (0.25, 0.5 ) (0.5 , 0.5 ) (0.75, 0.5 ) (1.  , 0.5 )]\n",
            " [(0.  , 0.75) (0.25, 0.75) (0.5 , 0.75) (0.75, 0.75) (1.  , 0.75)]\n",
            " [(0.  , 1.  ) (0.25, 1.  ) (0.5 , 1.  ) (0.75, 1.  ) (1.  , 1.  )]]\n"
          ]
        }
      ],
      "source": [
        "data = np.zeros((5,5), [('x',float),('y',float)])\n",
        "data['x'], data['y'] = np.meshgrid(np.linspace(0,1,5),np.linspace(0,1,5))\n",
        "print(data)"
      ]
    },
    {
      "cell_type": "markdown",
      "metadata": {
        "id": "-zNrMoHAULfo"
      },
      "source": [
        "#### 6.12「3×3の値が昇順になっている行列を作成し、インデックスと値を出力してください。」"
      ]
    },
    {
      "cell_type": "code",
      "execution_count": 35,
      "metadata": {
        "id": "ItkIaqFqULfp",
        "colab": {
          "base_uri": "https://localhost:8080/"
        },
        "outputId": "b36cf49b-9068-4752-bfa0-074e16a83f16"
      },
      "outputs": [
        {
          "output_type": "stream",
          "name": "stdout",
          "text": [
            "(0, 0) 0\n",
            "(0, 1) 1\n",
            "(0, 2) 2\n",
            "(1, 0) 3\n",
            "(1, 1) 4\n",
            "(1, 2) 5\n",
            "(2, 0) 6\n",
            "(2, 1) 7\n",
            "(2, 2) 8\n"
          ]
        }
      ],
      "source": [
        "data = np.arange(9).reshape(3,3)\n",
        "for index, value in np.ndenumerate(data):\n",
        "  print(index, value)"
      ]
    },
    {
      "cell_type": "markdown",
      "metadata": {
        "id": "-xRwTNF_ULfp"
      },
      "source": [
        "#### 6.13「10×10の「0」行列を作成し、ランダムで20個「1」に変更してください。」"
      ]
    },
    {
      "cell_type": "code",
      "execution_count": 39,
      "metadata": {
        "id": "bFSLqGWpULfp",
        "colab": {
          "base_uri": "https://localhost:8080/"
        },
        "outputId": "f5bfa97d-3d00-4bf0-b35a-b602ead8e46f"
      },
      "outputs": [
        {
          "output_type": "stream",
          "name": "stdout",
          "text": [
            "[[0. 1. 0. 0. 0. 0. 1. 0. 0. 0.]\n",
            " [1. 0. 0. 0. 0. 0. 0. 0. 0. 1.]\n",
            " [0. 0. 0. 1. 0. 0. 0. 0. 0. 0.]\n",
            " [0. 1. 0. 0. 0. 0. 1. 0. 1. 0.]\n",
            " [0. 0. 1. 0. 0. 1. 0. 0. 1. 1.]\n",
            " [0. 0. 0. 0. 0. 0. 0. 0. 0. 0.]\n",
            " [0. 0. 0. 0. 1. 0. 0. 0. 0. 1.]\n",
            " [0. 0. 0. 1. 0. 0. 0. 0. 0. 0.]\n",
            " [1. 1. 0. 0. 0. 0. 0. 0. 0. 0.]\n",
            " [0. 1. 0. 1. 0. 0. 0. 0. 0. 1.]]\n"
          ]
        }
      ],
      "source": [
        "n = 10\n",
        "p = 20\n",
        "data = np.zeros((n,n))\n",
        "np.put(data, np.random.choice(range(n*n), p, replace=False),1)\n",
        "print(data)"
      ]
    },
    {
      "cell_type": "markdown",
      "metadata": {
        "id": "OuJBuYvnULfp"
      },
      "source": [
        "#### 6.14「100の整数のランダム要素を持つ配列を作成し、その頻度を出力してください。」"
      ]
    },
    {
      "cell_type": "code",
      "execution_count": 40,
      "metadata": {
        "id": "H4U8EWqYULfp",
        "colab": {
          "base_uri": "https://localhost:8080/"
        },
        "outputId": "5208c383-2045-4a88-e264-b6a3cac9b708"
      },
      "outputs": [
        {
          "output_type": "stream",
          "name": "stdout",
          "text": [
            "[1 2 1 0 2 2 0 3 1 3 0 1 1 0 1 2 1 2 1 1 0 1 0 0 1 0 1 0 0 0 0 0 1 3 0 0 0\n",
            " 0 2 2 2 2 1 1 0 0 2 2 3 0 2 1 1 0 0 1 2 2 0 0 1 0 1 0 1 0 2 0 1 0 2 1 2 2\n",
            " 1 2 3 2 0 2 2 1 1 2 0 0 3 0 1 1 0 0 1 1 0 0 2 3 0 1]\n"
          ]
        }
      ],
      "source": [
        "data = np.random.randint(0,100,100)\n",
        "F = np.bincount(data)\n",
        "print(F)"
      ]
    },
    {
      "cell_type": "code",
      "source": [],
      "metadata": {
        "id": "5pgYgjVp-nCu"
      },
      "execution_count": null,
      "outputs": []
    }
  ],
  "metadata": {
    "kernelspec": {
      "display_name": "Python 3",
      "language": "python",
      "name": "python3"
    },
    "language_info": {
      "codemirror_mode": {
        "name": "ipython",
        "version": 3
      },
      "file_extension": ".py",
      "mimetype": "text/x-python",
      "name": "python",
      "nbconvert_exporter": "python",
      "pygments_lexer": "ipython3",
      "version": "3.7.6"
    },
    "colab": {
      "provenance": [],
      "include_colab_link": true
    }
  },
  "nbformat": 4,
  "nbformat_minor": 0
}